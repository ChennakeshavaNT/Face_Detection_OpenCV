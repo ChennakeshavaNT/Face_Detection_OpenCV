{
 "cells": [
  {
   "cell_type": "markdown",
   "metadata": {},
   "source": [
    "# FACE DETECTION For WEB-CAM VIDEO as input"
   ]
  },
  {
   "cell_type": "code",
   "execution_count": 105,
   "metadata": {},
   "outputs": [],
   "source": [
    "import cv2                         #importing OPEN CV Library\n",
    "import numpy as np                 #importing numpy Library\n",
    "import matplotlib.pyplot as plt    #importing matplotlib Library\n",
    "\n",
    "%matplotlib inline"
   ]
  },
  {
   "cell_type": "code",
   "execution_count": 106,
   "metadata": {},
   "outputs": [],
   "source": [
    "face_detect = cv2.CascadeClassifier('haarcascade_frontalface.xml')    #Fetching Data from Data Set and Storing in variable"
   ]
  },
  {
   "cell_type": "code",
   "execution_count": 107,
   "metadata": {},
   "outputs": [],
   "source": [
    "cap=cv2.VideoCapture(0)                                               #Starting the Video Capture\n",
    "def face_detection(frame):                                            #User-defined function where face detection takes place\n",
    "    face_rectangle = face_detect.detectMultiScale(frame)              #Detecting Multiple faces within a given frame\n",
    "    for x,y,w,h in face_rectangle:                                    \n",
    "        cv2.rectangle(frame,(x,y),(x+w, y+h), (255,255,255),10)       #Drawing rectangle for each face detected\n",
    "    return frame                                                      #Returning Final image-frame with faces detected\n",
    "    "
   ]
  },
  {
   "cell_type": "code",
   "execution_count": 108,
   "metadata": {},
   "outputs": [],
   "source": [
    "while True:\n",
    "    ret, frame = cap.read(0)                                          #Storing the captured frame and Video Status in variables\n",
    "    face_detection(frame)                                             #Calling the function face_detection\n",
    "    cv2.imshow('Face Detection Video',frame)                          #Display the returned frame with detected faces\n",
    "    if cv2.waitKey(3) & 0xFF==27:                                     #Waiting for keyboard event to trigger stop signal\n",
    "        break                                                         #Programs stop when user click 'q'\n",
    "cap.release()                                                         #Releasing the Video input being captured\n",
    "cv2.destroyAllWindows()                                               #terminating the generated windows"
   ]
  }
 ],
 "metadata": {
  "kernelspec": {
   "display_name": "Python 3",
   "language": "python",
   "name": "python3"
  },
  "language_info": {
   "codemirror_mode": {
    "name": "ipython",
    "version": 3
   },
   "file_extension": ".py",
   "mimetype": "text/x-python",
   "name": "python",
   "nbconvert_exporter": "python",
   "pygments_lexer": "ipython3",
   "version": "3.8.3"
  }
 },
 "nbformat": 4,
 "nbformat_minor": 4
}
